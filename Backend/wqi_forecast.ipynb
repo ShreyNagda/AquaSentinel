{
 "cells": [
  {
   "cell_type": "code",
   "execution_count": 61,
   "metadata": {},
   "outputs": [],
   "source": [
    "import pandas as pd\n",
    "import joblib\n",
    "from prophet import Prophet\n"
   ]
  },
  {
   "cell_type": "code",
   "execution_count": 62,
   "metadata": {},
   "outputs": [
    {
     "name": "stdout",
     "output_type": "stream",
     "text": [
      "Index(['ds', 'y'], dtype='object')\n",
      "ds    datetime64[ns]\n",
      "y            float64\n",
      "dtype: object\n"
     ]
    }
   ],
   "source": [
    "# Load dataset\n",
    "df = pd.read_csv(\"data.csv\")\n",
    "\n",
    "# Convert year and month into a datetime format\n",
    "df['date'] = pd.to_datetime(df[['year', 'month']].assign(day=1))\n",
    "\n",
    "# Ensure 'WQI' is numeric and drop NaNs\n",
    "df['WQI'] = pd.to_numeric(df['WQI'], errors='coerce')\n",
    "df = df.dropna(subset=['WQI'])\n",
    "\n",
    "# Prepare dataset for Prophet\n",
    "df_prophet = df[['date', 'WQI']].rename(columns={'date': 'ds', 'WQI': 'y'})\n",
    "\n",
    "# Ensure correct data types\n",
    "df_prophet['ds'] = pd.to_datetime(df_prophet['ds'])\n",
    "\n",
    "# Print column names and first few rows for debugging\n",
    "print(df_prophet.columns)  # Should be ['ds', 'y']\n",
    "print(df_prophet.dtypes)   # 'ds' should be datetime64 and 'y' should be float\n"
   ]
  },
  {
   "cell_type": "code",
   "execution_count": 63,
   "metadata": {},
   "outputs": [
    {
     "name": "stderr",
     "output_type": "stream",
     "text": [
      "14:19:04 - cmdstanpy - INFO - Chain [1] start processing\n",
      "14:19:05 - cmdstanpy - INFO - Chain [1] done processing\n"
     ]
    },
    {
     "name": "stdout",
     "output_type": "stream",
     "text": [
      "✅ Prophet model saved successfully as prophet_wqi_model.pkl\n"
     ]
    }
   ],
   "source": [
    "# Initialize Prophet model\n",
    "prophet_model = Prophet()\n",
    "\n",
    "# Fit the model\n",
    "prophet_model.fit(df_prophet)\n",
    "\n",
    "# Save the trained model\n",
    "joblib.dump(prophet_model, \"prophet_wqi_model.pkl\")\n",
    "\n",
    "print(\"✅ Prophet model saved successfully as prophet_wqi_model.pkl\")\n"
   ]
  },
  {
   "cell_type": "code",
   "execution_count": 64,
   "metadata": {},
   "outputs": [
    {
     "name": "stdout",
     "output_type": "stream",
     "text": [
      "Index(['ds', 'y'], dtype='object')\n",
      "ds    datetime64[ns]\n",
      "y            float64\n",
      "dtype: object\n"
     ]
    },
    {
     "name": "stderr",
     "output_type": "stream",
     "text": [
      "14:19:05 - cmdstanpy - INFO - Chain [1] start processing\n",
      "14:19:05 - cmdstanpy - INFO - Chain [1] done processing\n"
     ]
    },
    {
     "name": "stdout",
     "output_type": "stream",
     "text": [
      "✅ Prophet model saved successfully!\n",
      "\n",
      "📌 Monthly Predictions:\n",
      "                           ds       yhat\n",
      "0  2025-03-31 14:19:05.215052  44.340758\n",
      "1  2025-04-30 14:19:05.215052  45.612635\n",
      "2  2025-05-31 14:19:05.215052  45.536692\n",
      "3  2025-06-30 14:19:05.215052  56.003823\n",
      "4  2025-07-31 14:19:05.215052  53.658338\n",
      "5  2025-08-31 14:19:05.215052  54.426979\n",
      "6  2025-09-30 14:19:05.215052  49.005011\n",
      "7  2025-10-31 14:19:05.215052  49.916190\n",
      "8  2025-11-30 14:19:05.215052  50.950786\n",
      "9  2025-12-31 14:19:05.215052  43.467914\n",
      "10 2026-01-31 14:19:05.215052  44.546227\n",
      "11 2026-02-28 14:19:05.215052  43.260082\n",
      "\n",
      "📌 Yearly Predictions:\n",
      "                          ds       yhat\n",
      "0 2025-12-31 14:19:05.237178  43.467914\n",
      "1 2026-12-31 14:19:05.237178  43.154294\n",
      "2 2027-12-31 14:19:05.237178  42.840304\n",
      "3 2028-12-31 14:19:05.237178  42.559101\n",
      "4 2029-12-31 14:19:05.237178  42.245875\n"
     ]
    }
   ],
   "source": [
    "import pandas as pd\n",
    "import joblib\n",
    "from prophet import Prophet\n",
    "\n",
    "# Load dataset\n",
    "df = pd.read_csv(\"data.csv\")\n",
    "\n",
    "# Convert year and month into datetime\n",
    "df['date'] = pd.to_datetime(df[['year', 'month']].assign(day=1))\n",
    "\n",
    "# Ensure 'WQI' is numeric and drop NaNs\n",
    "df['WQI'] = pd.to_numeric(df['WQI'], errors='coerce')\n",
    "df = df.dropna(subset=['WQI'])\n",
    "\n",
    "# Prepare dataset for Prophet\n",
    "df_prophet = df[['date', 'WQI']].rename(columns={'date': 'ds', 'WQI': 'y'})\n",
    "\n",
    "# Ensure correct data types\n",
    "df_prophet['ds'] = pd.to_datetime(df_prophet['ds'])\n",
    "\n",
    "# Print column names and first few rows for debugging\n",
    "print(df_prophet.columns)  # Should be ['ds', 'y']\n",
    "print(df_prophet.dtypes)   # 'ds' should be datetime64 and 'y' should be float\n",
    "\n",
    "# Initialize Prophet model\n",
    "prophet_model = Prophet()\n",
    "\n",
    "# Fit the model\n",
    "prophet_model.fit(df_prophet)\n",
    "\n",
    "# Save the model\n",
    "joblib.dump(prophet_model, \"prophet_wqi_model.joblib\")\n",
    "print(\"✅ Prophet model saved successfully!\")\n",
    "\n",
    "# Load model\n",
    "def load_model():\n",
    "    return joblib.load(\"prophet_wqi_model.joblib\")\n",
    "\n",
    "# Predict Next 12 Months\n",
    "def predict_monthly():\n",
    "    model = load_model()\n",
    "    current_date = pd.Timestamp.today()\n",
    "    future_dates = pd.date_range(start=current_date, periods=12, freq='ME')\n",
    "    future_df = pd.DataFrame({'ds': future_dates})\n",
    "\n",
    "    forecast = model.predict(future_df)\n",
    "    return forecast[['ds', 'yhat']]\n",
    "\n",
    "# Predict Next 5 Years\n",
    "def predict_yearly():\n",
    "    model = load_model()\n",
    "    current_date = pd.Timestamp.today()\n",
    "    future_dates = pd.date_range(start=current_date, periods=5, freq='YE')\n",
    "    future_df = pd.DataFrame({'ds': future_dates})\n",
    "\n",
    "    forecast = model.predict(future_df)\n",
    "    return forecast[['ds', 'yhat']]\n",
    "\n",
    "# Example Usage\n",
    "print(\"\\n📌 Monthly Predictions:\")\n",
    "print(predict_monthly())\n",
    "\n",
    "print(\"\\n📌 Yearly Predictions:\")\n",
    "print(predict_yearly())\n"
   ]
  }
 ],
 "metadata": {
  "kernelspec": {
   "display_name": ".venv",
   "language": "python",
   "name": "python3"
  },
  "language_info": {
   "codemirror_mode": {
    "name": "ipython",
    "version": 3
   },
   "file_extension": ".py",
   "mimetype": "text/x-python",
   "name": "python",
   "nbconvert_exporter": "python",
   "pygments_lexer": "ipython3",
   "version": "3.12.4"
  }
 },
 "nbformat": 4,
 "nbformat_minor": 2
}
